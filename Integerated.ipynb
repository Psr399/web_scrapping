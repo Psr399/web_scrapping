{
 "cells": [
  {
   "cell_type": "code",
   "execution_count": 1,
   "id": "proof-klein",
   "metadata": {},
   "outputs": [
    {
     "name": "stdout",
     "output_type": "stream",
     "text": [
      "importing Jupyter notebook from fetching_pages.ipynb\n",
      "importing Jupyter notebook from sections.ipynb\n",
      "importing Jupyter notebook from create_json.ipynb\n",
      "importing Jupyter notebook from fetching_from_database.ipynb\n"
     ]
    }
   ],
   "source": [
    "import import_ipynb\n",
    "import fetching_pages as FP\n",
    "import sections as sxn\n",
    "import create_json as C\n",
    "import fetching_from_database as ffb\n",
    "# import opening_pagination as op\n",
    "# import pagination_classifier as pc\n",
    "\n",
    "import itertools\n",
    "from itertools import cycle\n",
    "from lxml.html import fromstring\n",
    "import bs4\n",
    "import mysql.connector\n",
    "from bs4 import BeautifulSoup\n",
    "import pandas as pd\n",
    "import requests\n",
    "import json\n",
    "import time\n",
    "import sys\n",
    "from datetime import datetime\n",
    "import random\n",
    "from multiprocessing import Pool, Process,Queue\n",
    "import glob\n",
    "import os"
   ]
  },
  {
   "cell_type": "code",
   "execution_count": 2,
   "id": "allied-disease",
   "metadata": {},
   "outputs": [
    {
     "name": "stdout",
     "output_type": "stream",
     "text": [
      "31551\n"
     ]
    }
   ],
   "source": [
    "df = pd.read_csv('31551.csv')\n",
    "all_left_products = df['0'].tolist()\n",
    "print(len(all_left_products))"
   ]
  },
  {
   "cell_type": "code",
   "execution_count": 3,
   "id": "decimal-reach",
   "metadata": {},
   "outputs": [],
   "source": [
    "# if __name__ == '__main__':\n",
    "#     not_done = []\n",
    "#     p = Pool(30)\n",
    "#     not_done.append(p.map(C.scrap_page,all_left_products))\n",
    "#     p.close()\n",
    "#     print(len(not_done))"
   ]
  }
 ],
 "metadata": {
  "kernelspec": {
   "display_name": "Python 3",
   "language": "python",
   "name": "python3"
  },
  "language_info": {
   "codemirror_mode": {
    "name": "ipython",
    "version": 3
   },
   "file_extension": ".py",
   "mimetype": "text/x-python",
   "name": "python",
   "nbconvert_exporter": "python",
   "pygments_lexer": "ipython3",
   "version": "3.8.6"
  }
 },
 "nbformat": 4,
 "nbformat_minor": 5
}
